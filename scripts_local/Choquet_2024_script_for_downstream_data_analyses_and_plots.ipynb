{
 "cells": [
  {
   "cell_type": "code",
   "execution_count": null,
   "id": "59afa747",
   "metadata": {},
   "outputs": [],
   "source": [
    "\"\"\"\n",
    "\n",
    "Date: April 30, 2024\n",
    "\n",
    "Author: Karine Choquet\n",
    "\n",
    "This script will perform analyses for the revisions of the Genome Research manuscript\n",
    "\n",
    "\n",
    "\"\"\""
   ]
  },
  {
   "cell_type": "code",
   "execution_count": 1,
   "id": "c949cef2",
   "metadata": {},
   "outputs": [],
   "source": [
    "import numpy as np\n",
    "import pandas as pd\n",
    "import pysam\n",
    "from collections import Counter\n",
    "\n",
    "import matplotlib.pyplot as plt\n",
    "import re\n",
    "%matplotlib inline\n",
    "plt.rcParams['pdf.fonttype'] = 42\n",
    "plt.rcParams['ps.fonttype'] = 42\n",
    "\n",
    "import math\n",
    "\n",
    "from tqdm import tqdm\n",
    "\n",
    "import pybedtools\n",
    "from pybedtools import BedTool\n",
    "\n",
    "import seaborn as sns\n",
    "sns.set_style(\"white\")\n",
    "sns.set_style(\"ticks\")\n",
    "\n",
    "import scipy\n",
    "from scipy import stats\n",
    "from scipy.stats import ttest_ind, ttest_ind_from_stats\n",
    "from scipy.special import stdtr\n",
    "\n",
    "import random\n",
    "from numpy.random import choice\n",
    "\n",
    "import itertools\n",
    "\n",
    "import sklearn\n",
    "from sklearn import decomposition\n",
    "from sklearn.decomposition import PCA as PCA\n",
    "\n",
    "from statsmodels.stats.multitest import multipletests"
   ]
  },
  {
   "cell_type": "markdown",
   "id": "34d1e403",
   "metadata": {},
   "source": [
    "## Splicing order set up"
   ]
  },
  {
   "cell_type": "code",
   "execution_count": 3,
   "id": "741a7f0b",
   "metadata": {},
   "outputs": [],
   "source": [
    "# Load intron features and gene_names df\n",
    "hg38_intron_df = pd.read_table(\"~/path/to/annotation_files/hg38_all_intron_features.txt\")\n",
    "gene_names_df = pd.read_table(\"~/path/to/annotation_files/hg38_UCSC_refGene_names.txt\")\n",
    "gene_names_df.columns = ['gene_name','gene_id']\n",
    "\n",
    "hg38_intron_df['gene_id'] = hg38_intron_df['gene'].str.split(\"\\\\.\").str[0]\n",
    "\n",
    "hg38_intron_df = hg38_intron_df.merge(gene_names_df, on='gene_id')\n",
    "\n",
    "hg38_intron_coord = hg38_intron_df.copy()[['chrom','start','end','gene','intron_pos']]"
   ]
  },
  {
   "cell_type": "code",
   "execution_count": 78,
   "id": "7fbc2411",
   "metadata": {},
   "outputs": [],
   "source": [
    "# Get all possible groups of 3 introns in the genome\n",
    "sim_intron_list = []\n",
    "\n",
    "for k in gene_dict.keys():\n",
    "    # return all groups of 3 introns\n",
    "    lst = gene_dict[k]\n",
    "    consecutive_combinations = [lst[i:i+3] for i in range(len(lst)-2)]\n",
    "    if len(consecutive_combinations) >= 1:\n",
    "        for group in consecutive_combinations:\n",
    "            group_str = \"_\".join([str(i) for i in group])\n",
    "            sim_intron_list.append([k, group_str])"
   ]
  },
  {
   "cell_type": "code",
   "execution_count": 85,
   "id": "5d4bcb19",
   "metadata": {},
   "outputs": [],
   "source": [
    "# Convert to dataframe\n",
    "sim_intron_df = pd.DataFrame(sim_intron_list)\n",
    "sim_intron_df.columns = ['gene','analyzed_introns']"
   ]
  },
  {
   "cell_type": "code",
   "execution_count": 86,
   "id": "1a927e3d",
   "metadata": {},
   "outputs": [],
   "source": [
    "# remove duplicate introns\n",
    "sim_intron_df['int1'] = sim_intron_df['analyzed_introns'].str.split(\"_\").str[0].astype(int)\n",
    "sim_intron_df['int2'] = sim_intron_df['analyzed_introns'].str.split(\"_\").str[1].astype(int)\n",
    "sim_intron_df['int3'] = sim_intron_df['analyzed_introns'].str.split(\"_\").str[2].astype(int)\n",
    "\n",
    "sim_intron_df = sim_intron_df.merge(hg38_intron_coord, left_on=['gene','int1'], right_on=['gene','intron_pos']).rename(columns={'chrom':'chrom_1', 'start':'start_1', 'end':'end_1'})\n",
    "sim_intron_df = sim_intron_df.merge(hg38_intron_coord, left_on=['gene','int2'], right_on=['gene','intron_pos']).rename(columns={'chrom':'chrom_2', 'start':'start_2', 'end':'end_2'})\n",
    "sim_intron_df = sim_intron_df.merge(hg38_intron_coord, left_on=['gene','int3'], right_on=['gene','intron_pos']).rename(columns={'chrom':'chrom_3', 'start':'start_3', 'end':'end_3'})\n",
    "\n",
    "sim_intron_df_nodup = sim_intron_df.sort_values(by=['gene','int1','int2','int3']).drop_duplicates(subset=['chrom_1','start_1','end_1','chrom_2','start_2','end_2','chrom_3','start_3','end_3']).reset_index(drop=True)"
   ]
  },
  {
   "cell_type": "code",
   "execution_count": 100,
   "id": "ee9675ec",
   "metadata": {},
   "outputs": [],
   "source": [
    "# Merge with gene name\n",
    "sim_intron_df_nodup['gene_id'] = sim_intron_df_nodup['gene'].str.split(\"\\\\.\").str[0]\n",
    "sim_intron_df_nodup = sim_intron_df_nodup.merge(gene_names_df, on='gene_id')"
   ]
  },
  {
   "cell_type": "code",
   "execution_count": 104,
   "id": "87cea83d",
   "metadata": {},
   "outputs": [],
   "source": [
    "# Get expression levels in LCLs from GTEx\n",
    "gtex_tpm_tmp = pd.read_table(\"/path/to/GTEx_Analysis_2017-06-05_v8_RNASeQCv1.1.9_gene_median_tpm.gct\")\n",
    "gtex_tpm = gtex_tpm_tmp.copy()[['Name','Description','Cells - EBV-transformed lymphocytes']].drop_duplicates().reset_index(drop=True)"
   ]
  },
  {
   "cell_type": "code",
   "execution_count": 110,
   "id": "b1f99bde",
   "metadata": {},
   "outputs": [],
   "source": [
    "# Merge intron groups with expression levels and filter for >1TPM\n",
    "sim_intron_df_gtex = sim_intron_df_nodup.merge(gtex_tpm, left_on='gene_name', right_on='Description')\n",
    "sim_intron_df_gtex_filt = sim_intron_df_gtex[sim_intron_df_gtex['Cells - EBV-transformed lymphocytes']> 1].reset_index(drop=True)"
   ]
  },
  {
   "cell_type": "code",
   "execution_count": 112,
   "id": "5412b347",
   "metadata": {},
   "outputs": [],
   "source": [
    "# Calculate combined intronic length of the three introns in the group\n",
    "sim_intron_df_gtex_filt['combined_intron_length'] = (sim_intron_df_gtex_filt['end_1'] - sim_intron_df_gtex_filt['start_1']) + (sim_intron_df_gtex_filt['end_2'] - sim_intron_df_gtex_filt['start_2']) + (sim_intron_df_gtex_filt['end_3'] - sim_intron_df_gtex_filt['start_3'])"
   ]
  },
  {
   "cell_type": "code",
   "execution_count": 118,
   "id": "8502d35a",
   "metadata": {},
   "outputs": [
    {
     "data": {
      "text/plain": [
       "count    1.199360e+05\n",
       "mean     1.443983e+04\n",
       "std      3.024120e+04\n",
       "min      4.000000e+00\n",
       "25%      2.886000e+03\n",
       "50%      6.500000e+03\n",
       "75%      1.387425e+04\n",
       "max      1.271612e+06\n",
       "Name: combined_intron_length, dtype: float64"
      ]
     },
     "execution_count": 118,
     "metadata": {},
     "output_type": "execute_result"
    }
   ],
   "source": [
    "# Get median and quantiles for the distribution of combined intron length\n",
    "sim_intron_df_gtex_filt['combined_intron_length'].describe()"
   ]
  },
  {
   "cell_type": "code",
   "execution_count": 4,
   "id": "814fd4f5",
   "metadata": {},
   "outputs": [],
   "source": [
    "# Functions to remove duplicate introns from splicing order results\n",
    "def remove_duplicate_introns(path_df_tmp):\n",
    "    \n",
    "    path_df = path_df_tmp[['cell_line','sample_name','rep','allele','gene','gene_name','analyzed_introns','n_analyzed_introns','full_path','full_path_score','rank']].drop_duplicates().sort_values(by=['gene_name','analyzed_introns','rank']).reset_index(drop=True)\n",
    "    \n",
    "    # Remove duplicates intron groups because they belong to different transcripts\n",
    "    intron_groups = path_df[['gene','gene_name','analyzed_introns','n_analyzed_introns']].drop_duplicates().reset_index(drop=True)\n",
    "\n",
    "    intron_groups_3 = intron_groups[intron_groups['n_analyzed_introns']==3].reset_index(drop=True)\n",
    "    intron_groups_3['int1'] = intron_groups_3['analyzed_introns'].str.split(\"_\").str[0].astype(int)\n",
    "    intron_groups_3['int2'] = intron_groups_3['analyzed_introns'].str.split(\"_\").str[1].astype(int)\n",
    "    intron_groups_3['int3'] = intron_groups_3['analyzed_introns'].str.split(\"_\").str[2].astype(int)\n",
    "\n",
    "    intron_groups_3 = intron_groups_3.merge(hg38_intron_coord, left_on=['gene','int1'], right_on=['gene','intron_pos']).rename(columns={'chrom':'chrom_1', 'start':'start_1', 'end':'end_1'})\n",
    "    intron_groups_3 = intron_groups_3.merge(hg38_intron_coord, left_on=['gene','int2'], right_on=['gene','intron_pos']).rename(columns={'chrom':'chrom_2', 'start':'start_2', 'end':'end_2'})\n",
    "    intron_groups_3 = intron_groups_3.merge(hg38_intron_coord, left_on=['gene','int3'], right_on=['gene','intron_pos']).rename(columns={'chrom':'chrom_3', 'start':'start_3', 'end':'end_3'})\n",
    "\n",
    "    intron_groups_3 = intron_groups_3.sort_values(by=['gene','int1','int2','int3']).drop_duplicates(subset=['chrom_1','start_1','end_1','chrom_2','start_2','end_2','chrom_3','start_3','end_3']).reset_index(drop=True)\n",
    "    \n",
    "    \n",
    "    fields = ['gene','gene_name','analyzed_introns','n_analyzed_introns']\n",
    "    intron_groups_nodup = intron_groups_3[fields].sort_values(by=['gene_name','analyzed_introns']).reset_index(drop=True)\n",
    "\n",
    "    # Merge back with paths\n",
    "    path_df_tmp_nodup = path_df_tmp.merge(intron_groups_nodup, on=['gene','gene_name','analyzed_introns','n_analyzed_introns'])\n",
    "    path_df_nodup = path_df_tmp_nodup[['cell_line','sample_name','rep','allele','gene','gene_name','analyzed_introns','n_analyzed_introns','full_path','full_path_score','rank']].drop_duplicates().sort_values(by=['gene_name','analyzed_introns','rank']).reset_index(drop=True)\n",
    "    \n",
    "    return(path_df_nodup)\n",
    "\n",
    "def remove_duplicate_introns_merged_reps(path_df_tmp):\n",
    "    \n",
    "    path_df = path_df_tmp[['cell_line','allele','gene','gene_name','analyzed_introns','n_analyzed_introns','full_path','full_path_score','rank']].drop_duplicates().sort_values(by=['gene_name','analyzed_introns','rank']).reset_index(drop=True)\n",
    "    \n",
    "    # Remove duplicates intron groups because they belong to different transcripts\n",
    "    intron_groups = path_df[['gene','gene_name','analyzed_introns','n_analyzed_introns']].drop_duplicates().reset_index(drop=True)\n",
    "\n",
    "    intron_groups_3 = intron_groups[intron_groups['n_analyzed_introns']==3].reset_index(drop=True)\n",
    "    intron_groups_3['int1'] = intron_groups_3['analyzed_introns'].str.split(\"_\").str[0].astype(int)\n",
    "    intron_groups_3['int2'] = intron_groups_3['analyzed_introns'].str.split(\"_\").str[1].astype(int)\n",
    "    intron_groups_3['int3'] = intron_groups_3['analyzed_introns'].str.split(\"_\").str[2].astype(int)\n",
    "\n",
    "    intron_groups_3 = intron_groups_3.merge(hg38_intron_coord, left_on=['gene','int1'], right_on=['gene','intron_pos']).rename(columns={'chrom':'chrom_1', 'start':'start_1', 'end':'end_1'})\n",
    "    intron_groups_3 = intron_groups_3.merge(hg38_intron_coord, left_on=['gene','int2'], right_on=['gene','intron_pos']).rename(columns={'chrom':'chrom_2', 'start':'start_2', 'end':'end_2'})\n",
    "    intron_groups_3 = intron_groups_3.merge(hg38_intron_coord, left_on=['gene','int3'], right_on=['gene','intron_pos']).rename(columns={'chrom':'chrom_3', 'start':'start_3', 'end':'end_3'})\n",
    "\n",
    "    intron_groups_3 = intron_groups_3.sort_values(by=['gene','int1','int2','int3']).drop_duplicates(subset=['chrom_1','start_1','end_1','chrom_2','start_2','end_2','chrom_3','start_3','end_3']).reset_index(drop=True)\n",
    "    \n",
    "    \n",
    "    fields = ['gene','gene_name','analyzed_introns','n_analyzed_introns']\n",
    "    intron_groups_nodup = intron_groups_3[fields].sort_values(by=['gene_name','analyzed_introns']).reset_index(drop=True)\n",
    "\n",
    "    # Merge back with paths\n",
    "    path_df_tmp_nodup = path_df_tmp.merge(intron_groups_nodup, on=['gene','gene_name','analyzed_introns','n_analyzed_introns'])\n",
    "    path_df_nodup = path_df_tmp_nodup[['cell_line','allele','gene','gene_name','analyzed_introns','n_analyzed_introns','full_path','full_path_score','rank']].drop_duplicates().sort_values(by=['gene_name','analyzed_introns','rank']).reset_index(drop=True)\n",
    "    \n",
    "    return(path_df_nodup)\n",
    "\n",
    "\n",
    "def get_distance_between_alleles(path_df):\n",
    "    \n",
    "    path_df_piv = path_df.pivot_table(index=['cell_line','sample_name','gene_name','gene','analyzed_introns','full_path'], columns='allele', values='full_path_score').reset_index().fillna(0)\n",
    "    regions = path_df_piv[['cell_line','sample_name','gene','gene_name','analyzed_introns']].drop_duplicates().reset_index(drop=True)\n",
    "\n",
    "    d_list = []\n",
    "\n",
    "    for i in range(len(regions)):\n",
    "        gene_name = regions.loc[i]['gene_name']\n",
    "        gene = regions.loc[i]['gene']\n",
    "        analyzed_introns = regions.loc[i]['analyzed_introns']\n",
    "        cell_line = regions.loc[i]['cell_line']\n",
    "        sample_name = regions.loc[i]['sample_name']\n",
    "    \n",
    "        df = path_df_piv[(path_df_piv['gene']==gene) & (path_df_piv['analyzed_introns']==analyzed_introns) & (path_df_piv['sample_name']==sample_name)].reset_index(drop=True)\n",
    "        p1 = np.array(df['P'])\n",
    "        p2 = np.array(df['M'])\n",
    "    \n",
    "        d = math.dist(p1, p2)\n",
    "    \n",
    "        d_list.append([cell_line,sample_name,gene_name,gene,analyzed_introns,d])\n",
    "    \n",
    "    d_df = pd.DataFrame(d_list)\n",
    "    d_df.columns = ['cell_line','sample_name','gene_name','gene','analyzed_introns','d']\n",
    "    \n",
    "    both_df = path_df.merge(d_df, on=['cell_line','sample_name','gene_name','gene','analyzed_introns'])\n",
    "    \n",
    "    return(both_df)\n",
    "\n",
    "def get_distance_between_alleles_merged_reps(path_df):\n",
    "    \n",
    "    path_df_piv = path_df.pivot_table(index=['cell_line','gene_name','gene','analyzed_introns','full_path'], columns='allele', values='full_path_score').reset_index().fillna(0)\n",
    "    regions = path_df_piv[['cell_line','gene','gene_name','analyzed_introns']].drop_duplicates().reset_index(drop=True)\n",
    "\n",
    "    d_list = []\n",
    "\n",
    "    for i in range(len(regions)):\n",
    "        gene_name = regions.loc[i]['gene_name']\n",
    "        gene = regions.loc[i]['gene']\n",
    "        analyzed_introns = regions.loc[i]['analyzed_introns']\n",
    "        cell_line = regions.loc[i]['cell_line']\n",
    "    \n",
    "        df = path_df_piv[(path_df_piv['gene']==gene) & (path_df_piv['analyzed_introns']==analyzed_introns) & (path_df_piv['cell_line']==cell_line)].reset_index(drop=True)\n",
    "        p1 = np.array(df['P'])\n",
    "        p2 = np.array(df['M'])\n",
    "    \n",
    "        d = math.dist(p1, p2)\n",
    "    \n",
    "        d_list.append([cell_line,gene_name,gene,analyzed_introns,d])\n",
    "    \n",
    "    d_df = pd.DataFrame(d_list)\n",
    "    d_df.columns = ['cell_line','gene_name','gene','analyzed_introns','d']\n",
    "    \n",
    "    both_df = path_df.merge(d_df, on=['cell_line','gene_name','gene','analyzed_introns'])\n",
    "    \n",
    "    return(both_df)\n",
    "\n",
    "\n",
    "def get_distance_between_replicates(path_df_piv):\n",
    "    \n",
    "    regions = path_df_piv[['cell_line','allele','gene','gene_name','analyzed_introns']].drop_duplicates().reset_index(drop=True)\n",
    "\n",
    "    d_list = []\n",
    "\n",
    "    for i in range(len(regions)):\n",
    "        gene_name = regions.loc[i]['gene_name']\n",
    "        gene = regions.loc[i]['gene']\n",
    "        analyzed_introns = regions.loc[i]['analyzed_introns']\n",
    "        cell_line = regions.loc[i]['cell_line']\n",
    "        allele = regions.loc[i]['allele']\n",
    "    \n",
    "        df = path_df_piv[(path_df_piv['gene']==gene) & (path_df_piv['analyzed_introns']==analyzed_introns) & (path_df_piv['allele']==allele) & (path_df_piv['cell_line']==cell_line)].reset_index(drop=True)\n",
    "        p1 = np.array(df['rep1'])\n",
    "        p2 = np.array(df['rep2'])\n",
    "    \n",
    "        d = math.dist(p1, p2)\n",
    "    \n",
    "        d_list.append([cell_line,allele,gene_name,gene,analyzed_introns,d])\n",
    "    \n",
    "    d_df = pd.DataFrame(d_list)\n",
    "    d_df.columns = ['cell_line','allele','gene_name','gene','analyzed_introns','d']\n",
    "        \n",
    "    return(d_df)"
   ]
  },
  {
   "cell_type": "code",
   "execution_count": 5,
   "id": "87c1cf99",
   "metadata": {},
   "outputs": [],
   "source": [
    "# Get sample info\n",
    "sample_info_tmp = pd.read_table(\"path/to/info.samples.new.txt\", sep=\",\", header=None)\n",
    "sample_info_tmp.columns = ['sample_name','cell_line','rep','compartment','device','kit']\n",
    "sample_info = sample_info_tmp.copy()[['sample_name','cell_line','rep']]"
   ]
  },
  {
   "cell_type": "markdown",
   "id": "c433b02e",
   "metadata": {},
   "source": [
    "## Chi-square test on partially spliced isoform counts (between replicates)"
   ]
  },
  {
   "cell_type": "code",
   "execution_count": null,
   "id": "5da7b123",
   "metadata": {},
   "outputs": [],
   "source": [
    "# Initialize an empty list to store dataframes\n",
    "df_list = []\n",
    "\n",
    "# Loop over each sample name and read the corresponding file\n",
    "for sample_name in sample_info['sample_name']:\n",
    "    file_path = f\"/path/to/{sample_name}_interm_counts_per_allele.hac.all_introns.min10reads.filterND.stringent.txt\"\n",
    "    df = pd.read_csv(file_path, sep=\"\\t\")\n",
    "    df['sample_name'] = sample_name  # Add a new column for the sample name\n",
    "    filt_df = sample_info[sample_info['sample_name']==sample_name].reset_index(drop=True)\n",
    "    cell_line = filt_df.iloc[0]['cell_line']\n",
    "    replicate = filt_df.iloc[0]['rep']\n",
    "    df['cell_line'] = cell_line\n",
    "    df['rep'] = replicate\n",
    "    df_list.append(df)  # Append the dataframe to the list\n",
    "\n",
    "# Concatenate all the dataframes into one\n",
    "counts_df = pd.concat(df_list, ignore_index=True)"
   ]
  },
  {
   "cell_type": "code",
   "execution_count": null,
   "id": "986f44c7",
   "metadata": {},
   "outputs": [],
   "source": [
    "# Pivot to have each replicate as one column\n",
    "counts_df_piv = counts_df.pivot_table(index=['cell_line','gene_name','allele','gene','analyzed_introns','level','pattern2'],columns='rep', values='count_pattern2').reset_index()\n",
    "\n",
    "# Extract samples with two replicates\n",
    "two_reps_df = counts_df_piv[(~counts_df_piv['rep1'].isna()) & (~counts_df_piv['rep2'].isna()) & (~counts_df_piv['cell_line'].isin(['GM19102','GM19099','GM18870','GM19102']))].drop(columns='rep3')\n",
    "\n",
    "# Extract samples with three replicates and format the same way as with two replicates\n",
    "three_reps_df1_2 = counts_df_piv[(~counts_df_piv['rep1'].isna()) & (~counts_df_piv['rep2'].isna()) & (counts_df_piv['cell_line'].isin(['GM19102','GM19099','GM18870','GM19102']))].drop(columns='rep3')\n",
    "three_reps_df1_3 = counts_df_piv[(~counts_df_piv['rep1'].isna()) & (~counts_df_piv['rep3'].isna()) & (counts_df_piv['cell_line'].isin(['GM19102','GM19099','GM18870','GM19102']))].drop(columns='rep2').rename(columns={'rep3':'rep2'})\n",
    "three_reps_df2_3 = counts_df_piv[(~counts_df_piv['rep2'].isna()) & (~counts_df_piv['rep3'].isna()) & (counts_df_piv['cell_line'].isin(['GM19102','GM19099','GM18870','GM19102']))].drop(columns='rep1').rename(columns={'rep2':'rep1','rep3':'rep2'})\n",
    "\n",
    "# Add a category\n",
    "two_reps_df['category'] = '1_vs_2'\n",
    "three_reps_df1_2['category'] = '1_vs_2'\n",
    "three_reps_df1_3['category'] = '1_vs_3'\n",
    "three_reps_df2_3['category'] = '2_vs_3'\n",
    "\n",
    "# Concatenate all\n",
    "reps_df = pd.concat([two_reps_df,three_reps_df1_2,three_reps_df1_3,three_reps_df2_3]).reset_index(drop=True)"
   ]
  },
  {
   "cell_type": "code",
   "execution_count": null,
   "id": "0c5b3e3f",
   "metadata": {},
   "outputs": [],
   "source": [
    "# Get list of intron groups\n",
    "regions_df_ind = reps_df[['cell_line','gene_name','gene','analyzed_introns','category']].drop_duplicates().reset_index(drop=True)"
   ]
  },
  {
   "cell_type": "code",
   "execution_count": null,
   "id": "c5b046a4",
   "metadata": {},
   "outputs": [],
   "source": [
    "results_list = []\n",
    "\n",
    "for i in tqdm(range(len(regions_df_ind))):\n",
    "    \n",
    "    cell_line = regions_df_ind.loc[i]['cell_line']\n",
    "    gene_name = regions_df_ind.loc[i]['gene_name']\n",
    "    gene = regions_df_ind.loc[i]['gene']\n",
    "    analyzed_introns = regions_df_ind.loc[i]['analyzed_introns']\n",
    "    category = regions_df_ind.loc[i]['category']\n",
    "    \n",
    "    # Retrieve the corresponding counts\n",
    "    test_df = reps_df[(reps_df['cell_line']==cell_line) & (reps_df['gene_name']==gene_name) & (reps_df['gene']==gene) & (reps_df['analyzed_introns']==analyzed_introns) & (reps_df['category']==category)].reset_index(drop=True)\n",
    "    test_df_piv_lev1 = test_df[test_df['level']==1].reset_index(drop=True)\n",
    "    test_df_piv_lev2 = test_df[test_df['level']==2].reset_index(drop=True)\n",
    "    \n",
    "    sum_counts_lev1 = np.array(test_df_piv_lev1[['rep1','rep2']]).sum()\n",
    "    sum_counts_lev2 = np.array(test_df_piv_lev2[['rep1','rep2']]).sum()\n",
    "    \n",
    "    pval1 = stats.chi2_contingency(np.array(test_df_piv_lev1[['rep1','rep2']]))[1]\n",
    "    pval2 = stats.chi2_contingency(np.array(test_df_piv_lev2[['rep1','rep2']]))[1]\n",
    "    \n",
    "    results_list.append([cell_line,category,gene_name,gene,analyzed_introns,'level1',sum_counts_lev1,pval1])\n",
    "    results_list.append([cell_line,category,gene_name,gene,analyzed_introns,'level2',sum_counts_lev2,pval2])\n",
    "    \n",
    "results_ind_df = pd.DataFrame(results_list)\n",
    "results_ind_df.columns = ['cell_line','category','gene_name','gene','analyzed_introns','level','total_counts','pvalue']\n",
    "\n",
    "# Correct for multiple testing\n",
    "results_ind_df['FDR'] = multipletests(results_ind_df['pvalue'].astype(float), alpha=0.05, method='fdr_bh')[1]"
   ]
  },
  {
   "cell_type": "code",
   "execution_count": null,
   "id": "af7fa976",
   "metadata": {},
   "outputs": [],
   "source": [
    "results_ind_df.to_csv(\"/path/to/results_files/LCLs_splicing_order_ind_reps_chisquare_test_results.txt\", header=True, index=False, sep=\"\\t\")"
   ]
  },
  {
   "cell_type": "markdown",
   "id": "f59d83f4",
   "metadata": {},
   "source": [
    "## Chi-square test on partially spliced isoform counts (replicates merged)"
   ]
  },
  {
   "cell_type": "code",
   "execution_count": 6,
   "id": "bd0829cb",
   "metadata": {},
   "outputs": [],
   "source": [
    "# Get list of cell lines\n",
    "cell_lines = sample_info['cell_line'].tolist()\n",
    "\n",
    "# Initialize an empty list to store dataframes\n",
    "df_list = []\n",
    "\n",
    "# Loop over each sample name and read the corresponding file\n",
    "for cell_line in cell_lines:\n",
    "    file_path = f\"/path/to/{cell_line}_chr_merged_interm_counts_per_allele.hac.all_introns.min10reads.filterND.stringent.txt\"\n",
    "    df = pd.read_csv(file_path, sep=\"\\t\")\n",
    "    df['cell_line'] = cell_line  # Add a new column for the cell_line\n",
    "    df_list.append(df)  # Append the dataframe to the list\n",
    "\n",
    "# Concatenate all the dataframes into one\n",
    "counts_merged_df = pd.concat(df_list, ignore_index=True)"
   ]
  },
  {
   "cell_type": "code",
   "execution_count": 7,
   "id": "f8b99abf",
   "metadata": {},
   "outputs": [],
   "source": [
    "# Get list of intron groups\n",
    "regions_df = counts_merged_df[['cell_line','gene_name','gene','analyzed_introns']].drop_duplicates().reset_index(drop=True)"
   ]
  },
  {
   "cell_type": "code",
   "execution_count": 8,
   "id": "524065b6",
   "metadata": {},
   "outputs": [
    {
     "name": "stderr",
     "output_type": "stream",
     "text": [
      "100%|██████████| 16999/16999 [18:48<00:00, 15.06it/s]\n"
     ]
    }
   ],
   "source": [
    "results_list = []\n",
    "\n",
    "for i in tqdm(range(len(regions_df))):\n",
    "    \n",
    "    cell_line = regions_df.loc[i]['cell_line']\n",
    "    gene_name = regions_df.loc[i]['gene_name']\n",
    "    gene = regions_df.loc[i]['gene']\n",
    "    analyzed_introns = regions_df.loc[i]['analyzed_introns']\n",
    "    \n",
    "    # Retrieve the corresponding counts\n",
    "    test_df = counts_merged_df[(counts_merged_df['cell_line']==cell_line) & (counts_merged_df['gene_name']==gene_name) & (counts_merged_df['gene']==gene) & (counts_merged_df['analyzed_introns']==analyzed_introns)].reset_index(drop=True)\n",
    "    test_df_piv = test_df.pivot_table(index=['level','pattern2'],columns='allele',values='count_pattern2').reset_index().fillna(0)\n",
    "    test_df_piv_lev1 = test_df_piv[test_df_piv['level']==1].reset_index(drop=True)\n",
    "    test_df_piv_lev2 = test_df_piv[test_df_piv['level']==2].reset_index(drop=True)\n",
    "    \n",
    "    sum_counts_lev1 = np.array(test_df_piv_lev1[['M','P']]).sum()\n",
    "    sum_counts_lev2 = np.array(test_df_piv_lev2[['M','P']]).sum()\n",
    "    \n",
    "    pval1 = stats.chi2_contingency(np.array(test_df_piv_lev1[['M','P']]))[1]\n",
    "    pval2 = stats.chi2_contingency(np.array(test_df_piv_lev2[['M','P']]))[1]\n",
    "    \n",
    "    results_list.append([cell_line,gene_name,gene,analyzed_introns,'level1',sum_counts_lev1,pval1])\n",
    "    results_list.append([cell_line,gene_name,gene,analyzed_introns,'level2',sum_counts_lev2,pval2])\n",
    "    \n",
    "results_merged_df = pd.DataFrame(results_list)\n",
    "results_merged_df.columns = ['cell_line','gene_name','gene','analyzed_introns','level','total_counts','pvalue']\n",
    "\n",
    "# Correct for multiple testing\n",
    "results_merged_df['FDR'] = multipletests(results_merged_df['pvalue'].astype(float), alpha=0.05, method='fdr_bh')[1]"
   ]
  },
  {
   "cell_type": "code",
   "execution_count": 9,
   "id": "631520ed",
   "metadata": {},
   "outputs": [],
   "source": [
    "# Get intron groups that are significant based on chi-square test\n",
    "sig_by_counts = results_merged_df[results_merged_df['FDR']<0.05].reset_index(drop=True)"
   ]
  },
  {
   "cell_type": "code",
   "execution_count": 12,
   "id": "b097103b",
   "metadata": {},
   "outputs": [],
   "source": [
    "# Pivot results to have the results from each splicing level side by side\n",
    "results_merged_df_piv = results_merged_df.pivot_table(index=['cell_line','gene_name','gene','analyzed_introns'], columns='level', values='FDR').reset_index()"
   ]
  },
  {
   "cell_type": "code",
   "execution_count": null,
   "id": "c2e60727",
   "metadata": {},
   "outputs": [],
   "source": [
    "results_merged_df.to_csv(\"/path/to/LCLs_splicing_order_merged_reps_chisquare_test_results.txt\", header=True, index=False, sep=\"\\t\")"
   ]
  },
  {
   "cell_type": "markdown",
   "id": "13a2bda9",
   "metadata": {},
   "source": [
    "## Euclidean distance with splicing orders (between replicates)"
   ]
  },
  {
   "cell_type": "code",
   "execution_count": 13,
   "id": "39beb49c",
   "metadata": {},
   "outputs": [],
   "source": [
    "# Initialize an empty list to store dataframes\n",
    "path_list = []\n",
    "\n",
    "# Loop over each sample name and read the corresponding file\n",
    "for sample_name in sample_info['sample_name']:\n",
    "    file_path = f\"/path/to/{sample_name}_splicing_order_paths_per_allele.hac.all_introns.min10reads.filterND.stringent.txt\"\n",
    "    df = pd.read_csv(file_path, sep=\"\\t\")\n",
    "    df['sample_name'] = sample_name  # Add a new column for the sample name\n",
    "    filt_df = sample_info[sample_info['sample_name']==sample_name].reset_index(drop=True)\n",
    "    cell_line = filt_df.iloc[0]['cell_line']\n",
    "    replicate = filt_df.iloc[0]['rep']\n",
    "    df['cell_line'] = cell_line\n",
    "    df['rep'] = replicate\n",
    "    path_list.append(df)  # Append the dataframe to the list\n",
    "\n",
    "# Concatenate all the dataframes into one\n",
    "path_df_tmp = pd.concat(path_list, ignore_index=True)"
   ]
  },
  {
   "cell_type": "code",
   "execution_count": 14,
   "id": "64c6ac2b",
   "metadata": {},
   "outputs": [],
   "source": [
    "# Remove duplicates and get distance between alleles within each sample\n",
    "path_df_nodup = remove_duplicate_introns(path_df_tmp)\n",
    "path_df_d = get_distance_between_alleles(path_df_nodup)"
   ]
  },
  {
   "cell_type": "code",
   "execution_count": 15,
   "id": "21bf4ca5",
   "metadata": {},
   "outputs": [],
   "source": [
    "# Now calculate the Euclidean distance between alleles for the same replicate\n",
    "path_df_piv = path_df_nodup.pivot_table(index=['cell_line','gene_name','allele','gene','analyzed_introns','full_path'],columns='rep', values='full_path_score').reset_index()\n",
    "\n",
    "# Samples with two replicates\n",
    "two_reps_df = path_df_piv[(~path_df_piv['rep1'].isna()) & (~path_df_piv['rep2'].isna()) & (~path_df_piv['cell_line'].isin(['GM19102','GM19099','GM18870','GM19102']))].drop(columns='rep3')\n",
    "two_reps_d_df = get_distance_between_replicates(two_reps_df)\n",
    "\n",
    "# Samples with three replicates\n",
    "three_reps_df1_2 = path_df_piv[(~path_df_piv['rep1'].isna()) & (~path_df_piv['rep2'].isna()) & (path_df_piv['cell_line'].isin(['GM19102','GM19099','GM18870','GM19102']))].drop(columns='rep3')\n",
    "three_reps_df1_3 = path_df_piv[(~path_df_piv['rep1'].isna()) & (~path_df_piv['rep3'].isna()) & (path_df_piv['cell_line'].isin(['GM19102','GM19099','GM18870','GM19102']))].drop(columns='rep2').rename(columns={'rep3':'rep2'})\n",
    "three_reps_df2_3 = path_df_piv[(~path_df_piv['rep2'].isna()) & (~path_df_piv['rep3'].isna()) & (path_df_piv['cell_line'].isin(['GM19102','GM19099','GM18870','GM19102']))].drop(columns='rep1').rename(columns={'rep2':'rep1','rep3':'rep2'})\n",
    "three_reps_d_df1_2 = get_distance_between_replicates(three_reps_df1_2)\n",
    "three_reps_d_df1_3 = get_distance_between_replicates(three_reps_df1_3)\n",
    "three_reps_d_df2_3 = get_distance_between_replicates(three_reps_df2_3)\n",
    "\n",
    "# Concatenate all\n",
    "reps_d_df = pd.concat([two_reps_d_df,three_reps_d_df1_2,three_reps_d_df1_3,three_reps_d_df2_3]).reset_index(drop=True)"
   ]
  },
  {
   "cell_type": "code",
   "execution_count": 16,
   "id": "5d5308fa",
   "metadata": {},
   "outputs": [
    {
     "data": {
      "text/plain": [
       "cell_line\n",
       "GM18522    0.072921\n",
       "GM19209    0.080314\n",
       "GM18861    0.087000\n",
       "GM19099    0.090478\n",
       "GM18853    0.095012\n",
       "GM19102    0.096880\n",
       "GM19223    0.097503\n",
       "GM19152    0.100844\n",
       "GM18501    0.101940\n",
       "GM18870    0.102839\n",
       "GM19144    0.117479\n",
       "GM18510    0.124681\n",
       "Name: d, dtype: float64"
      ]
     },
     "execution_count": 16,
     "metadata": {},
     "output_type": "execute_result"
    }
   ],
   "source": [
    "# Get median distance per cell lines\n",
    "reps_d_df.groupby('cell_line')['d'].median().sort_values()"
   ]
  },
  {
   "cell_type": "code",
   "execution_count": 18,
   "id": "81020608",
   "metadata": {},
   "outputs": [],
   "source": [
    "# Save distribution of Euclidean distance for plotting\n",
    "reps_d_df.to_csv(\"/path/to/results_files/LCLs_splicing_order_distance_between_reps_all.txt\", sep=\"\\t\", header=True, index=False)"
   ]
  },
  {
   "cell_type": "code",
   "execution_count": 19,
   "id": "62bdac11",
   "metadata": {},
   "outputs": [
    {
     "data": {
      "text/plain": [
       "0.37893743510900685"
      ]
     },
     "execution_count": 19,
     "metadata": {},
     "output_type": "execute_result"
    }
   ],
   "source": [
    "# Calculate threshold = IQR * 1.5\n",
    "my_threshold = reps_d_df['d'].quantile(0.75) + (1.5 * (reps_d_df['d'].quantile(0.75) - reps_d_df['d'].quantile(0.25)))\n",
    "my_threshold"
   ]
  },
  {
   "cell_type": "code",
   "execution_count": null,
   "id": "9d78203f",
   "metadata": {},
   "outputs": [],
   "source": []
  },
  {
   "cell_type": "markdown",
   "id": "c46effb7",
   "metadata": {},
   "source": [
    "## Euclidean distance on splicing orders from merged replicates"
   ]
  },
  {
   "cell_type": "code",
   "execution_count": 20,
   "id": "8630edaf",
   "metadata": {},
   "outputs": [],
   "source": [
    "cell_lines = sample_info['cell_line'].drop_duplicates().tolist()\n",
    "\n",
    "# Initialize an empty list to store dataframes\n",
    "df_list = []\n",
    "\n",
    "# Loop over each sample name and read the corresponding file\n",
    "for cell_line in cell_lines:\n",
    "    file_path = f\"/path/to/{cell_line}_chr_merged_splicing_order_paths_per_allele.hac.all_introns.min10reads.filterND.stringent.txt\"\n",
    "    df = pd.read_csv(file_path, sep=\"\\t\")\n",
    "    df['cell_line'] = cell_line  # Add a new column for the cell_line\n",
    "    df_list.append(df)  # Append the dataframe to the list\n",
    "\n",
    "# Concatenate all the dataframes into one\n",
    "path_merged_df = pd.concat(df_list, ignore_index=True)"
   ]
  },
  {
   "cell_type": "code",
   "execution_count": 21,
   "id": "1e1d1c10",
   "metadata": {},
   "outputs": [],
   "source": [
    "# Remove duplicates and get distance between alleles within each sample\n",
    "path_df_merged_nodup = remove_duplicate_introns_merged_reps(path_merged_df)\n",
    "path_df_merged_d = get_distance_between_alleles_merged_reps(path_df_merged_nodup)"
   ]
  },
  {
   "cell_type": "code",
   "execution_count": 22,
   "id": "cfe3c0c2",
   "metadata": {},
   "outputs": [],
   "source": [
    "# Merge results from chi-square and from Euclidean distance\n",
    "test_df = path_df_merged_d.merge(results_merged_df_piv, on=['cell_line','gene','gene_name','analyzed_introns'])\n",
    "test_df_sig = test_df[((test_df['level1']<0.05) | (test_df['level2']<0.05)) & (test_df['d']>=my_threshold)][['cell_line','gene','gene_name','analyzed_introns','level1','level2','d']].drop_duplicates().reset_index(drop=True)"
   ]
  },
  {
   "cell_type": "code",
   "execution_count": 28,
   "id": "b3c7e4aa",
   "metadata": {},
   "outputs": [],
   "source": [
    "# Save results for further plotting in R\n",
    "test_df.to_csv(\"/path/to/results_files/LCLs_splicing_order_merged_samples_chi_square_vs_distance_results.txt\", header=True, index=False, sep=\"\\t\")\n"
   ]
  },
  {
   "cell_type": "code",
   "execution_count": null,
   "id": "da4b0ef9",
   "metadata": {},
   "outputs": [],
   "source": []
  },
  {
   "cell_type": "markdown",
   "id": "fb8553c7",
   "metadata": {},
   "source": [
    "## Modify DRIMSeq genotypes file"
   ]
  },
  {
   "cell_type": "code",
   "execution_count": 31,
   "id": "6c803402",
   "metadata": {},
   "outputs": [],
   "source": [
    "# Get file with genotypes that were used as input for DRIMseq tuQTL\n",
    "geno_df = pd.read_table(\"/path/to/LCLs_studied_cell_lines.genes_splicing_order.extended.formatted_for_drimseq.txt\")"
   ]
  },
  {
   "cell_type": "code",
   "execution_count": 29,
   "id": "64867d37",
   "metadata": {},
   "outputs": [],
   "source": [
    "# Get results from DRIMSeq tuQTL and filter for significant SNPs\n",
    "drim_df = pd.read_table(\"/path/to/drimseq_tuQTL._filtered_min2_sig_cell_lines_window500.tsv\")\n",
    "drim_snps = drim_df[drim_df['adj_pvalue']<0.05].reset_index(drop=True)\n"
   ]
  },
  {
   "cell_type": "code",
   "execution_count": 32,
   "id": "35acfaff",
   "metadata": {},
   "outputs": [],
   "source": [
    "# Get a list of SNPs that were significant\n",
    "geno_df_sub = geno_df[geno_df['ID'].isin(drim_snps['snp_id'].tolist())].reset_index(drop=True)"
   ]
  },
  {
   "cell_type": "code",
   "execution_count": 33,
   "id": "008b6ddf",
   "metadata": {},
   "outputs": [],
   "source": [
    "# Reformat the genotype file so that it's in long format\n",
    "geno_df_m = geno_df_sub.melt(id_vars=['CHROM','START','ID','REF','ALT'], var_name='allele', value_name='genotype')"
   ]
  },
  {
   "cell_type": "code",
   "execution_count": 34,
   "id": "c8431ec5",
   "metadata": {},
   "outputs": [],
   "source": [
    "# Save for plotting in R\n",
    "geno_df_m.to_csv(\"/path/to/results_files/DRIMseq_tuQTL_sig_snps.iltered_min2_sig_cell_lines_window500.with_genotypes.txt\", sep=\"\\t\", header=True, index=False)"
   ]
  },
  {
   "cell_type": "code",
   "execution_count": null,
   "id": "a970b01c",
   "metadata": {},
   "outputs": [],
   "source": []
  },
  {
   "cell_type": "markdown",
   "id": "99551d24",
   "metadata": {},
   "source": [
    "## Intron pairs (merged replicates)"
   ]
  },
  {
   "cell_type": "code",
   "execution_count": 35,
   "id": "aeb36511",
   "metadata": {},
   "outputs": [],
   "source": [
    "# Get intron pairs counts\n",
    "cell_lines = sample_info['cell_line'].drop_duplicates().tolist()\n",
    "\n",
    "# Initialize an empty list to store dataframes\n",
    "df_list = []\n",
    "\n",
    "# Loop over each sample name and read the corresponding file\n",
    "for cell_line in cell_lines:\n",
    "    file_path = f\"/path/to/{cell_line}_chr_merged_hg38_intron_pairs_counts.txt\"\n",
    "    df = pd.read_csv(file_path, sep=\"\\t\")\n",
    "    df['cell_line'] = cell_line  # Add a new column for the cell_line\n",
    "    df_list.append(df)  # Append the dataframe to the list\n",
    "\n",
    "# Concatenate all the dataframes into one\n",
    "pairs_counts_df = pd.concat(df_list, ignore_index=True).sort_values(by=['cell_line','gene_name','gene','int1_count','int2_count','allele','splice_order']).reset_index(drop=True)"
   ]
  },
  {
   "cell_type": "code",
   "execution_count": 36,
   "id": "e3ff965e",
   "metadata": {},
   "outputs": [],
   "source": [
    "# Get unique pairs\n",
    "pairs_regions_df = pairs_counts_df[['cell_line','gene_name','gene','int1_count','int2_count']].drop_duplicates().reset_index(drop=True)"
   ]
  },
  {
   "cell_type": "code",
   "execution_count": 51,
   "id": "f6ddbfae",
   "metadata": {},
   "outputs": [],
   "source": [
    "# Get all pairs genes\n",
    "pairs_genes = pairs_regions_df['gene'].drop_duplicates()"
   ]
  },
  {
   "cell_type": "code",
   "execution_count": 52,
   "id": "8a75a035",
   "metadata": {},
   "outputs": [
    {
     "name": "stderr",
     "output_type": "stream",
     "text": [
      "100%|█████████████████████████████████████████████████████████████████████████████████████████████████████████████████████████████████████| 58322/58322 [17:25<00:00, 55.79it/s]\n"
     ]
    }
   ],
   "source": [
    "# For each intron pair in each cell line, compare splicing order between alleles using a Fisher's exact test\n",
    "pairs_list = []\n",
    "\n",
    "for i in tqdm(range(len(pairs_regions_df))):\n",
    "    \n",
    "    cell_line = pairs_regions_df.loc[i]['cell_line']\n",
    "    gene_name = pairs_regions_df.loc[i]['gene_name']\n",
    "    gene = pairs_regions_df.loc[i]['gene']\n",
    "    int1 = pairs_regions_df.loc[i]['int1_count']\n",
    "    int2 = pairs_regions_df.loc[i]['int2_count']\n",
    "    \n",
    "    # Retrieve the corresponding counts\n",
    "    test_df = pairs_counts_df[(pairs_counts_df['cell_line']==cell_line) & (pairs_counts_df['gene_name']==gene_name) & (pairs_counts_df['gene']==gene) & (pairs_counts_df['int1_count']==int1) & (pairs_counts_df['int2_count']==int2)].reset_index(drop=True)\n",
    "    test_df_piv = test_df.pivot_table(index=['splice_order'],columns='allele',values='read').reset_index().fillna(0).sort_values(by='splice_order').reset_index(drop=True)\n",
    "    \n",
    "    if len(test_df_piv) == 2: # if both splicing orders are seen on at least one allele\n",
    "        sum_counts = np.array(test_df_piv[['M','P']]).sum()\n",
    "        counts_in_order_M = test_df_piv.loc[0]['M']\n",
    "        counts_in_order_P = test_df_piv.loc[0]['P']\n",
    "        counts_out_order_M = test_df_piv.loc[1]['M']\n",
    "        counts_out_order_P = test_df_piv.loc[1]['P']\n",
    "        in_order_P = test_df_piv.loc[0]['P'] / (test_df_piv.loc[1]['P'] + test_df_piv.loc[0]['P']) \n",
    "        in_order_M = test_df_piv.loc[0]['M'] / (test_df_piv.loc[1]['M'] + test_df_piv.loc[0]['M'])\n",
    "        delta = in_order_M - in_order_P\n",
    "        pval = stats.fisher_exact(np.array(test_df_piv[['M','P']]))[1]\n",
    "        pairs_list.append([cell_line,gene_name,gene,int1,int2,sum_counts,counts_in_order_M,counts_out_order_M,counts_in_order_P,counts_out_order_P,in_order_M,in_order_P,delta,pval])\n",
    "    \n",
    "    elif len(test_df_piv) > 2:\n",
    "        print(gene, cell_line, int1, int2, \"something weird\")\n",
    "    \n",
    "pairs_df = pd.DataFrame(pairs_list)\n",
    "pairs_df.columns = ['cell_line','gene_name','gene','int1_count','int2_count','total_counts','counts_in_order_M','counts_out_order_M','counts_in_order_P','counts_out_order_P','in_order_M','in_order_P','delta','pvalue']\n",
    "\n",
    "# Correct for multiple testing\n",
    "pairs_df['FDR'] = multipletests(pairs_df['pvalue'].astype(float), alpha=0.05, method='fdr_bh')[1]"
   ]
  },
  {
   "cell_type": "code",
   "execution_count": 53,
   "id": "d0af0018",
   "metadata": {},
   "outputs": [],
   "source": [
    "# Save results for further processing in R\n",
    "pairs_df.to_csv(\"/path/to/results_files/LCLs_splicing_order_merged_samples_intron_pairs_Fisher_exact_test_results.txt\", header=True, index=False, sep=\"\\t\")\n"
   ]
  },
  {
   "cell_type": "markdown",
   "id": "d291224f",
   "metadata": {},
   "source": [
    "## HLA-B splicing order heatmap"
   ]
  },
  {
   "cell_type": "code",
   "execution_count": 48,
   "id": "70f96f3f",
   "metadata": {},
   "outputs": [],
   "source": [
    "# Load VCF files with genotypes\n",
    "vcf_test_all = pd.read_table(\"/path/to/LCLs_studied_cell_lines_all_SNPs.genes_splicing_order.extended.vcf\", header=None)\n",
    "vcf_test_het = pd.read_table(\"/path/to/LCLs_studied_cell_lines_het_SNPs_phased.genes_splicing_order.extended.vcf\", header=None)\n",
    "\n",
    "vcf_test_all.columns = [\"CHROM\",\"START\",\"ID\",\"REF\",\"ALT\",\"QUAL\",\"FILTER\",\"INFO\",\"FORMAT\",\"GM19102\",\"GM19099\",\"GM18870\",\"GM19223\",\"GM18501\",\"GM18510\",\"GM18853\",\"GM19144\",\"GM19152\",\"GM18522\",\"GM18861\",\"GM19209\"]\n",
    "vcf_test_het.columns = [\"CHROM\",\"START\",\"ID\",\"REF\",\"ALT\",\"QUAL\",\"FILTER\",\"INFO\",\"FORMAT\",\"GM18870\",\"GM19099\",\"GM19102\",\"GM19223\",\"GM18501\",\"GM18510\",\"GM18853\",\"GM19144\",\"GM19152\",\"GM18522\",\"GM18861\",\"GM19209\"]\n",
    "\n",
    "vcf_test_all['Type'] = 'hom'\n",
    "vcf_test_het['Type'] = 'het'\n",
    "\n",
    "# Define the list of cell lines\n",
    "sample_list = [\"GM19102\",\"GM19099\",\"GM18870\",\"GM19223\",\"GM18501\",\"GM18510\",\"GM18853\",\"GM19144\",\"GM19152\",\"GM18522\",\"GM18861\",\"GM19209\"]\n",
    "\n",
    "# Reformat VCF files for the two types of genotypes and combine them\n",
    "vcf_test_hom = vcf_test_all.drop(columns=['QUAL','FILTER','INFO','FORMAT']).melt(id_vars=[\"CHROM\",\"START\",\"ID\",\"REF\",\"ALT\",\"Type\"],value_vars=sample_list, var_name='cell_line',value_name='genotype')\n",
    "vcf_test_hom = vcf_test_hom[vcf_test_hom['genotype'].isin(['0|0','1|1'])].reset_index(drop=True)\n",
    "vcf_test_het = vcf_test_het.drop(columns=['QUAL','FILTER','INFO','FORMAT']).melt(id_vars=[\"CHROM\",\"START\",\"ID\",\"REF\",\"ALT\",\"Type\"],value_vars=sample_list, var_name='cell_line',value_name='genotype')\n",
    "vcf_test_het = vcf_test_het[vcf_test_het['genotype'].isin(['0|1','1|0'])].reset_index(drop=True)\n",
    "vcf_test = pd.concat([vcf_test_hom,vcf_test_het]).reset_index(drop=True)"
   ]
  },
  {
   "cell_type": "code",
   "execution_count": 57,
   "id": "ef1cae37",
   "metadata": {},
   "outputs": [],
   "source": [
    "# HLA-B coordinates\n",
    "gene_start = 31353875\n",
    "gene_end = 31357179\n",
    "\n",
    "# Extract SNPs located within HLA-B\n",
    "vcf_test_sub = vcf_test[(vcf_test['START']>gene_start) & (vcf_test['START']<gene_end)].reset_index(drop=True)\n"
   ]
  },
  {
   "cell_type": "code",
   "execution_count": 58,
   "id": "e0b71dd8",
   "metadata": {},
   "outputs": [],
   "source": [
    "# Separate alleles\n",
    "vcf_test_sub['P'] = vcf_test_sub['genotype'].str.split(\"\\\\|\").str[0].astype(int)\n",
    "vcf_test_sub['M'] = vcf_test_sub['genotype'].str.split(\"\\\\|\").str[1].astype(int)"
   ]
  },
  {
   "cell_type": "code",
   "execution_count": 59,
   "id": "e7a31666",
   "metadata": {},
   "outputs": [],
   "source": [
    "# Reformat and name allele based on cell line and parental origin\n",
    "vcf_test_bis = vcf_test_sub.melt(id_vars=['cell_line','ID','CHROM','START','REF','ALT'], value_vars=['P','M'], var_name='allele_tmp', value_name='geno')\n",
    "vcf_test_bis['allele'] = vcf_test_bis['cell_line'] + '_' + vcf_test_bis['allele_tmp']"
   ]
  },
  {
   "cell_type": "code",
   "execution_count": 79,
   "id": "b9ce80e2",
   "metadata": {},
   "outputs": [],
   "source": [
    "# Make a matrix with HLA-B genotypes\n",
    "mat_HLAB = vcf_test_bis.sort_values(by='START').pivot_table(index=[\"START\"], columns='allele', values=\"geno\")\n",
    "\n",
    "# Eliminate rows where all samples have same genotype, and the three cell lines that could not be analyzed in allele-specific manner for splicing order\n",
    "mat_HLAB['sum_geno'] = mat_HLAB.sum(axis=1)\n",
    "mat_HLAB = mat_HLAB[(mat_HLAB['sum_geno']>0) & (mat_HLAB['sum_geno']<16)].drop(columns=['sum_geno','GM19099_P','GM19099_M','GM19223_P','GM19223_M','GM18853_P','GM18853_M']).dropna()\n",
    "# Transpose matrix\n",
    "mat_HLAB_rev = mat_HLAB.T"
   ]
  },
  {
   "cell_type": "code",
   "execution_count": 86,
   "id": "870e70ed",
   "metadata": {},
   "outputs": [],
   "source": [
    "# Cluster alleles based on genotypes\n",
    "linkage_paths = scipy.cluster.hierarchy.linkage(mat_HLAB_rev, method=\"average\")"
   ]
  },
  {
   "cell_type": "code",
   "execution_count": 99,
   "id": "27fdd1e5",
   "metadata": {},
   "outputs": [],
   "source": [
    "# Get splicing orders\n",
    "path_df = pd.read_table(\"/path/to/results_files/LCLs_splicing_order_merged_samples_chi_square_vs_distance_results.txt\")\n",
    "path_df['allele_bis'] = path_df['cell_line'] + '_' + path_df['allele']"
   ]
  },
  {
   "cell_type": "code",
   "execution_count": 91,
   "id": "7e79483e",
   "metadata": {},
   "outputs": [
    {
     "data": {
      "image/png": "[encoded data removed]",
      "text/plain": [
       "<Figure size 720x216 with 4 Axes>"
      ]
     },
     "metadata": {},
     "output_type": "display_data"
    },
    {
     "data": {
      "image/png": "[encoded data removed]",
      "text/plain": [
       "<Figure size 720x216 with 4 Axes>"
      ]
     },
     "metadata": {},
     "output_type": "display_data"
    },
    {
     "data": {
      "image/png": "[encoded data removed]",
      "text/plain": [
       "<Figure size 720x216 with 4 Axes>"
      ]
     },
     "metadata": {},
     "output_type": "display_data"
    },
    {
     "data": {
      "image/png": "[encoded data removed]",
      "text/plain": [
       "<Figure size 720x216 with 4 Axes>"
      ]
     },
     "metadata": {},
     "output_type": "display_data"
    }
   ],
   "source": [
    "# Plot heatmap of splicing orders for each intron group of interest\n",
    "intron_groups = ['6_5_4','5_4_3']\n",
    "\n",
    "for analyzed_introns in intron_groups:\n",
    "    path_mat = path_df[(path_df['gene_name']==\"HLA-B\") & (path_df['analyzed_introns']==analyzed_introns)].pivot_table(index=\"full_path\", columns=\"allele_bis\", values=\"full_path_score\").fillna(0)\n",
    "    path_mat_rev = path_mat.T\n",
    "    out_name = \"/path/to/Figures/plots/Fig5_heatmap_splicing_order_scores_HLA-B_introns\" + analyzed_introns + \".pdf\"\n",
    "    \n",
    "    if len(path_mat_rev) == len(mat_HLAB_rev):\n",
    "        cm = sns.clustermap(path_mat_rev, yticklabels=True, xticklabels=True, figsize=(10,3), col_cluster=False, \n",
    "                    row_linkage=linkage_paths, dendrogram_ratio=0.05)\n",
    "\n",
    "        cm.cax.set_visible(False)\n",
    "    \n",
    "\n",
    "        cm = sns.clustermap(path_mat_rev, yticklabels=True, xticklabels=True, figsize=(10,3), col_cluster=False, \n",
    "                    row_linkage=linkage_paths, dendrogram_ratio=0.05)\n",
    "\n",
    "        cm.cax.set_visible(False)\n",
    "        \n",
    "        plt.savefig(out_name, format='pdf', dpi=300, bbox_inches='tight')\n"
   ]
  },
  {
   "cell_type": "code",
   "execution_count": null,
   "id": "e0e16f2d",
   "metadata": {},
   "outputs": [],
   "source": []
  },
  {
   "cell_type": "code",
   "execution_count": null,
   "id": "58b3fe5f",
   "metadata": {},
   "outputs": [],
   "source": []
  },
  {
   "cell_type": "code",
   "execution_count": null,
   "id": "bfd1fcc0",
   "metadata": {},
   "outputs": [],
   "source": []
  }
 ],
 "metadata": {
  "kernelspec": {
   "display_name": "Python 3 (ipykernel)",
   "language": "python",
   "name": "python3"
  },
  "language_info": {
   "codemirror_mode": {
    "name": "ipython",
    "version": 3
   },
   "file_extension": ".py",
   "mimetype": "text/x-python",
   "name": "python",
   "nbconvert_exporter": "python",
   "pygments_lexer": "ipython3",
   "version": "3.11.4"
  }
 },
 "nbformat": 4,
 "nbformat_minor": 5
}
