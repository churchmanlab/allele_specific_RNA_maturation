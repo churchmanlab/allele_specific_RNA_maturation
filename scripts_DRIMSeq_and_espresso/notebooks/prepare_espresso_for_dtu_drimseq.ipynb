{
 "cells": [
  {
   "cell_type": "code",
   "execution_count": 1,
   "metadata": {},
   "outputs": [],
   "source": [
    "import pandas as pd\n",
    "import re\n",
    "import os"
   ]
  },
  {
   "cell_type": "code",
   "execution_count": 7,
   "metadata": {},
   "outputs": [],
   "source": [
    "## The DRIMSeq DTU script execpt one sample divided into 2 groups.\n",
    "## So we need to split the espresso counts file into all its separate sample.\n",
    "\n",
    "esp_df = pd.read_table('../data/espresso/LCL_espresso_counts.tsv')\n",
    "\n",
    "# Get cell lines\n",
    "cell_lines = set()\n",
    "for col in esp_df.columns:\n",
    "    match = re.search(r'(GM\\d{5})', col)\n",
    "    if match:\n",
    "        cell_lines.add(match.group(1))\n",
    "cell_lines = list(cell_lines)\n",
    "\n",
    "separate_outdir = '../data/drimseq_dtu_input/replicates_separate'\n",
    "merged_outdir = '../data/drimseq_dtu_input/merged_replicates'\n",
    "os.makedirs(separate_outdir, exist_ok=True)\n",
    "os.makedirs(merged_outdir, exist_ok=True)\n",
    "\n",
    "# Select columns to keep for each cell line\n",
    "# and write the new file. Keep replicates separate\n",
    "id_columns = esp_df.iloc[:, :3].columns.tolist()\n",
    "for cell_line in cell_lines:\n",
    "\n",
    "    count_columns = [col for col in esp_df.columns if cell_line in col]\n",
    "    keep_columns = id_columns + count_columns\n",
    "\n",
    "    df = esp_df[keep_columns]\n",
    "    df = df[~df['transcript_ID'].str.startswith('ESPRESSO')]\n",
    "    df_fname = os.path.join(separate_outdir, f'{cell_line}_espresso_counts.tsv')\n",
    "    df.to_csv(df_fname, index=None, sep='\\t')   \n",
    "\n",
    "    group_1 = ','.join([col for col in df.columns if 'maternal' in col])\n",
    "    group_2 = ','.join([col for col in df.columns if 'paternal' in col])\n",
    "    group_1_fname = os.path.join(separate_outdir, f'{cell_line}_group_1.txt')\n",
    "    group_2_fname = os.path.join(separate_outdir, f'{cell_line}_group_2.txt')\n",
    "\n",
    "    with open(group_1_fname, 'w') as f:\n",
    "        f.write(group_1)\n",
    "\n",
    "    with open(group_2_fname, 'w') as f:\n",
    "        f.write(group_2)\n",
    "\n",
    "\n",
    "    # Merge replicates of the same sample together\n",
    "    maternal_cols = [col for col in df.columns if 'maternal' in col]\n",
    "    paternal_cols = [col for col in df.columns if 'paternal' in col]\n",
    "\n",
    "    maternal_sum = df[maternal_cols].sum(axis=1)\n",
    "    maternal_sum.name = 'M'\n",
    "\n",
    "    paternal_sum = df[paternal_cols].sum(axis=1)\n",
    "    paternal_sum.name = 'P'\n",
    "\n",
    "    merged_df = pd.concat([df.iloc[:, :3], maternal_sum, paternal_sum], axis=1)\n",
    "    merged_df_fname = os.path.join(merged_outdir, f'{cell_line}_espresso_counts.tsv')\n",
    "    merged_df.to_csv(merged_df_fname, index=None, sep='\\t')\n",
    "\n",
    "    merged_group_1_fname = os.path.join(merged_outdir, f'{cell_line}_group_1.txt')\n",
    "    merged_group_2_fname = os.path.join(merged_outdir, f'{cell_line}_group_2.txt')\n",
    "    \n",
    "    with open(merged_group_1_fname, 'w') as f:\n",
    "        f.write('M')\n",
    "\n",
    "    with open(merged_group_2_fname, 'w') as f:\n",
    "        f.write('P')"
   ]
  }
 ],
 "metadata": {
  "kernelspec": {
   "display_name": "python",
   "language": "python",
   "name": "python3"
  },
  "language_info": {
   "codemirror_mode": {
    "name": "ipython",
    "version": 3
   },
   "file_extension": ".py",
   "mimetype": "text/x-python",
   "name": "python",
   "nbconvert_exporter": "python",
   "pygments_lexer": "ipython3",
   "version": "3.12.1"
  }
 },
 "nbformat": 4,
 "nbformat_minor": 2
}
