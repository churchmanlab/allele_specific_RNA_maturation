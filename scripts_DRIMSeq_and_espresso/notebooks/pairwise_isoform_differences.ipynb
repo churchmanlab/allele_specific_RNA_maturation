{
 "cells": [
  {
   "cell_type": "code",
   "execution_count": 2,
   "metadata": {},
   "outputs": [],
   "source": [
    "import pandas as pd\n",
    "import os"
   ]
  },
  {
   "cell_type": "code",
   "execution_count": 3,
   "metadata": {},
   "outputs": [],
   "source": [
    "# Make main and second transcript id input for classify isoform differences script\n",
    "df = pd.read_table('../data/classify_isoform_differences/LCL_espresso_pairwise_transcript_comparison_2024-08-27.tsv')\n",
    "df = df[df['FDR'].lt(0.05)]\n",
    "\n",
    "with open('../data/classify_isoform_differences/main_transcript_id.txt', 'w') as file:\n",
    "    for id in df['transcript1']:\n",
    "        file.write(f'  - {id}\\n')\n",
    "\n",
    "with open('../data/classify_isoform_differences/second_transcript_id.txt', 'w') as file:\n",
    "    for id in df['transcript2']:\n",
    "        file.write(f'  - {id}\\n')"
   ]
  },
  {
   "cell_type": "code",
   "execution_count": null,
   "metadata": {},
   "outputs": [],
   "source": [
    "# After running classify_isoform_differences.py\n",
    "# Merge isoform difference results into one file\n",
    "def concatenate_files(files, output_file):\n",
    "    \"\"\"Concatenate a list of files but only write the header once.\"\"\"\n",
    "    with open(output_file, 'w') as outfile:\n",
    "        header_written = False\n",
    "        \n",
    "        for file in files:\n",
    "            with open(file, 'r') as infile:\n",
    "                lines = infile.readlines()\n",
    "                \n",
    "                if not header_written:\n",
    "                    outfile.write(lines[0])\n",
    "                    header_written = True\n",
    "                \n",
    "                for line in lines[1:]:\n",
    "                    outfile.write(line)\n",
    "\n",
    "indir = '../results/classify_isoform_differences'\n",
    "files = os.listdir(indir)\n",
    "files = [os.path.join(indir, file) for file in files]\n",
    "outfname = '../results/LCL_isoform_differences.tsv'\n",
    "\n",
    "concatenate_files(files, outfname)\n",
    "\n",
    "# Split coordinates column\n",
    "df = pd.read_table(outfname)\n",
    "df['coordinates'] = df['coordinates'].str.split(';')\n",
    "df = df.explode('coordinates')\n",
    "df['chr'] = df['coordinates'].str.split(':').str[0]\n",
    "df['start'] = df['coordinates'].str.split(':').str[1]\n",
    "df['end'] = df['coordinates'].str.split(':').str[2]\n",
    "df['strand'] = df['coordinates'].str.split(':').str[3]\n",
    "df.to_csv('../results/LCL_isoform_differences_exploded_coordinates.tsv',\n",
    "          index=False, sep='\\t')"
   ]
  }
 ],
 "metadata": {
  "kernelspec": {
   "display_name": "python",
   "language": "python",
   "name": "python3"
  },
  "language_info": {
   "codemirror_mode": {
    "name": "ipython",
    "version": 3
   },
   "file_extension": ".py",
   "mimetype": "text/x-python",
   "name": "python",
   "nbconvert_exporter": "python",
   "pygments_lexer": "ipython3",
   "version": "3.12.1"
  }
 },
 "nbformat": 4,
 "nbformat_minor": 2
}
